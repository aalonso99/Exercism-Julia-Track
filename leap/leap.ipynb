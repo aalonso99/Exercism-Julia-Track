{
 "cells": [
  {
   "cell_type": "markdown",
   "metadata": {},
   "source": [
    "# Leap\n",
    "\n",
    "Given a year, report if it is a leap year.\n",
    "\n",
    "The tricky thing here is that a leap year in the Gregorian calendar occurs:\n",
    "\n",
    "```text\n",
    "on every year that is evenly divisible by 4\n",
    "  except every year that is evenly divisible by 100\n",
    "    unless the year is also evenly divisible by 400\n",
    "```\n",
    "\n",
    "For example, 1997 is not a leap year, but 1996 is.  1900 is not a leap\n",
    "year, but 2000 is.\n",
    "\n",
    "## Notes\n",
    "\n",
    "Though our exercise adopts some very simple rules, there is more to\n",
    "learn!\n",
    "\n",
    "For a delightful, four minute explanation of the whole leap year\n",
    "phenomenon, go watch [this youtube video][video].\n",
    "\n",
    "[video]: http://www.youtube.com/watch?v=xX96xng7sAE\n",
    "\n",
    "## Source\n",
    "\n",
    "JavaRanch Cattle Drive, exercise 3 [http://www.javaranch.com/leap.jsp](http://www.javaranch.com/leap.jsp)\n",
    "\n",
    "## Version compatibility\n",
    "This exercise has been tested on Julia versions >=1.0.\n",
    "\n",
    "## Submitting Incomplete Solutions\n",
    "It's possible to submit an incomplete solution so you can see how others have completed the exercise."
   ]
  },
  {
   "cell_type": "markdown",
   "metadata": {},
   "source": [
    "## Your solution"
   ]
  },
  {
   "cell_type": "code",
   "execution_count": 12,
   "metadata": {},
   "outputs": [
    {
     "data": {
      "text/plain": [
       "is_leap_year"
      ]
     },
     "execution_count": 12,
     "metadata": {},
     "output_type": "execute_result"
    }
   ],
   "source": [
    "# submit\n",
    "\"\"\"\n",
    "    is_leap_year(year)\n",
    "\n",
    "Return `true` if `year` is a leap year in the gregorian calendar.\n",
    "\n",
    "\"\"\"\n",
    "function is_leap_year(year)\n",
    "    return year%4 == 0 && (year%100 != 0 || year%400 == 0) \n",
    "end\n"
   ]
  },
  {
   "cell_type": "markdown",
   "metadata": {},
   "source": [
    "## Test suite"
   ]
  },
  {
   "cell_type": "code",
   "execution_count": 13,
   "metadata": {},
   "outputs": [
    {
     "name": "stdout",
     "output_type": "stream",
     "text": [
      "\u001b[37m\u001b[1mTest Summary:                        | \u001b[22m\u001b[39m\u001b[32m\u001b[1mPass  \u001b[22m\u001b[39m\u001b[36m\u001b[1mTotal\u001b[22m\u001b[39m\n",
      "Year not divisible by 4: common year | \u001b[32m   1  \u001b[39m\u001b[36m    1\u001b[39m\n",
      "\u001b[37m\u001b[1mTest Summary:                                        | \u001b[22m\u001b[39m\u001b[32m\u001b[1mPass  \u001b[22m\u001b[39m\u001b[36m\u001b[1mTotal\u001b[22m\u001b[39m\n",
      "Year divisible by 4, not divisible by 100: leap year | \u001b[32m   1  \u001b[39m\u001b[36m    1\u001b[39m\n",
      "\u001b[37m\u001b[1mTest Summary:                                            | \u001b[22m\u001b[39m\u001b[32m\u001b[1mPass  \u001b[22m\u001b[39m\u001b[36m\u001b[1mTotal\u001b[22m\u001b[39m\n",
      "Year divisible by 100, not divisible by 400: common year | \u001b[32m   1  \u001b[39m\u001b[36m    1\u001b[39m\n",
      "\u001b[37m\u001b[1mTest Summary:                    | \u001b[22m\u001b[39m\u001b[32m\u001b[1mPass  \u001b[22m\u001b[39m\u001b[36m\u001b[1mTotal\u001b[22m\u001b[39m\n",
      "Year divisible by 400: leap year | \u001b[32m   1  \u001b[39m\u001b[36m    1\u001b[39m\n"
     ]
    },
    {
     "data": {
      "text/plain": [
       "Test.DefaultTestSet(\"Year divisible by 400: leap year\", Any[], 1, false)"
      ]
     },
     "execution_count": 13,
     "metadata": {},
     "output_type": "execute_result"
    }
   ],
   "source": [
    "using Test\n",
    "\n",
    "# include(\"leap.jl\")\n",
    "\n",
    "@testset \"Year not divisible by 4: common year\" begin\n",
    "    @test !is_leap_year(2015)\n",
    "end\n",
    "\n",
    "@testset \"Year divisible by 4, not divisible by 100: leap year\" begin\n",
    "    @test is_leap_year(2016)\n",
    "end\n",
    "\n",
    "@testset \"Year divisible by 100, not divisible by 400: common year\" begin\n",
    "    @test !is_leap_year(2100)\n",
    "end\n",
    "\n",
    "@testset \"Year divisible by 400: leap year\" begin\n",
    "    @test is_leap_year(2000)\n",
    "end"
   ]
  },
  {
   "cell_type": "markdown",
   "metadata": {},
   "source": [
    "## Prepare submission\n",
    "To submit your exercise, you need to save your solution in a file called `leap.jl` before using the CLI.\n",
    "You can either create it manually or use the following functions, which will automatically write every notebook cell that starts with `# submit` to the file `leap.jl`.\n"
   ]
  },
  {
   "cell_type": "code",
   "execution_count": null,
   "metadata": {},
   "outputs": [],
   "source": [
    "# using Pkg; Pkg.add(\"Exercism\")\n",
    "# using Exercism\n",
    "# Exercism.create_submission(\"leap\")"
   ]
  }
 ],
 "metadata": {
  "kernelspec": {
   "display_name": "Julia 1.5.0",
   "language": "julia",
   "name": "julia-1.5"
  },
  "language_info": {
   "file_extension": ".jl",
   "mimetype": "application/julia",
   "name": "julia",
   "version": "1.5.0"
  }
 },
 "nbformat": 4,
 "nbformat_minor": 2
}
